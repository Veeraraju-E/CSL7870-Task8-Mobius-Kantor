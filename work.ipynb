{
 "cells": [
  {
   "cell_type": "markdown",
   "id": "a6f7a3ad",
   "metadata": {},
   "source": [
    "## Required Libraries"
   ]
  },
  {
   "cell_type": "code",
   "execution_count": 2,
   "id": "bfb68478",
   "metadata": {},
   "outputs": [],
   "source": [
    "import torch\n",
    "from torch_geometric.datasets import TUDataset\n",
    "from torch_geometric.utils import to_networkx\n",
    "import networkx as nx\n",
    "import collections\n",
    "import random\n",
    "from networkx.algorithms import isomorphism\n",
    "import itertools\n",
    "from collections import Counter\n",
    "import math\n",
    "import numpy as np\n",
    "from networkx.algorithms import distance_regular\n",
    "import random"
   ]
  },
  {
   "cell_type": "code",
   "execution_count": 3,
   "id": "a8aee2ff",
   "metadata": {},
   "outputs": [
    {
     "data": {
      "text/plain": [
       "<torch._C.Generator at 0x7b440c1f0390>"
      ]
     },
     "execution_count": 3,
     "metadata": {},
     "output_type": "execute_result"
    }
   ],
   "source": [
    "random.seed(42)\n",
    "torch.manual_seed(42)"
   ]
  },
  {
   "cell_type": "markdown",
   "id": "f204ad0f",
   "metadata": {},
   "source": [
    "## Experiment A"
   ]
  },
  {
   "cell_type": "code",
   "execution_count": 4,
   "id": "428f5257",
   "metadata": {},
   "outputs": [
    {
     "name": "stdout",
     "output_type": "stream",
     "text": [
      "Loaded 2000 graphs.\n"
     ]
    }
   ],
   "source": [
    "dataset = TUDataset(root='/tmp/AIDS', name='AIDS', use_node_attr=True)\n",
    "print(f\"Loaded {len(dataset)} graphs.\")"
   ]
  },
  {
   "cell_type": "code",
   "execution_count": 5,
   "id": "805f77d8",
   "metadata": {},
   "outputs": [],
   "source": [
    "def weisfeiler_lehman_hash(graph):\n",
    "    colors = {node: data.get('label', 0) for node, data in graph.nodes(data=True)}\n",
    "    for _ in range(len(graph.nodes())):\n",
    "        new_colors = {}\n",
    "        for node in graph.nodes():\n",
    "            neighbor_colors = sorted([colors[nbr] for nbr in graph.neighbors(node)])\n",
    "            signature = (colors[node], tuple(neighbor_colors))\n",
    "            new_colors[node] = hash(signature)\n",
    "        if new_colors == colors:\n",
    "            break\n",
    "        colors = new_colors\n",
    "    return str(sorted(colors.values()))\n"
   ]
  },
  {
   "cell_type": "code",
   "execution_count": 6,
   "id": "0e266227",
   "metadata": {},
   "outputs": [],
   "source": [
    "def find_isomorphic_groups(dataset):\n",
    "    hashes = collections.defaultdict(list)\n",
    "    for i, data in enumerate(dataset):\n",
    "        g = to_networkx(data, node_attrs=['x'])\n",
    "        nx.set_node_attributes(g, {j: int(x[0]) for j, x in enumerate(data.x)}, 'label')\n",
    "        if len(g) > 0:\n",
    "            h = weisfeiler_lehman_hash(g)\n",
    "            hashes[h].append(i)\n",
    "    return {h: idxs for h, idxs in hashes.items() if len(idxs) > 1}\n"
   ]
  },
  {
   "cell_type": "code",
   "execution_count": 7,
   "id": "6f6e33f2",
   "metadata": {},
   "outputs": [
    {
     "name": "stdout",
     "output_type": "stream",
     "text": [
      "No of isomorphic Graphs: 84\n"
     ]
    }
   ],
   "source": [
    "isomorphic_groups = find_isomorphic_groups(dataset)\n",
    "print(f\"No of isomorphic Graphs: {len(isomorphic_groups)}\")"
   ]
  },
  {
   "cell_type": "code",
   "execution_count": 8,
   "id": "851f6cb8",
   "metadata": {},
   "outputs": [
    {
     "name": "stdout",
     "output_type": "stream",
     "text": [
      "Largest group has 8 i.e. graphs [709, 1270, 1454, 1585, 1607, 1809, 1964, 1977]\n"
     ]
    }
   ],
   "source": [
    "largest_group = max(isomorphic_groups.values(), key=len)\n",
    "print(f\"Largest group has {len(largest_group)} i.e. graphs {largest_group[:10]}\")"
   ]
  },
  {
   "cell_type": "code",
   "execution_count": 9,
   "id": "b1f0e2f2",
   "metadata": {},
   "outputs": [],
   "source": [
    "def perturb_graph(graph):\n",
    "    g_copy =graph.copy()\n",
    "    possible_ops =[]\n",
    "    n_nodes =len(g_copy.nodes())\n",
    "    max_edges =n_nodes*(n_nodes-1)//2\n",
    "    if len(g_copy.edges()) > 0:\n",
    "        possible_ops.append('remove')\n",
    "    if len(g_copy.edges()) < max_edges:\n",
    "        possible_ops.append('add')\n",
    "    if not possible_ops:\n",
    "        return g_copy, \"null_graph\"\n",
    "    op =random.choice(possible_ops)\n",
    "    if op =='add':\n",
    "        edge_to_add =random.choice(list(nx.non_edges(g_copy)))\n",
    "        g_copy.add_edge(*edge_to_add)\n",
    "        return g_copy,f\"added_{edge_to_add}\"\n",
    "    else:\n",
    "        edge_to_remove =random.choice(list(g_copy.edges()))\n",
    "        g_copy.remove_edge(*edge_to_remove)\n",
    "        return g_copy,f\"removed_{edge_to_remove}\"\n"
   ]
  },
  {
   "cell_type": "code",
   "execution_count": 10,
   "id": "03bb9d62",
   "metadata": {},
   "outputs": [],
   "source": [
    "original_graphs = []\n",
    "for idx in largest_group:\n",
    "    data =dataset[idx]\n",
    "    g = to_networkx(data, node_attrs=['x'])\n",
    "    nx.set_node_attributes(g, {j: int(x[0]) for j, x in enumerate(data.x)},'label')\n",
    "    original_graphs.append(g)"
   ]
  },
  {
   "cell_type": "code",
   "execution_count": 11,
   "id": "3828e351",
   "metadata": {},
   "outputs": [
    {
     "name": "stdout",
     "output_type": "stream",
     "text": [
      "Total No of pertubed Graphs : 80\n"
     ]
    }
   ],
   "source": [
    "perturbed_graphs = []\n",
    "metadata = []\n",
    "for i, g in enumerate(original_graphs):\n",
    "    for j in range(10):\n",
    "        pg, op = perturb_graph(g)\n",
    "        perturbed_graphs.append(pg)\n",
    "        metadata.append((i,j,op))\n",
    "print(f\"Total No of pertubed Graphs : {len(perturbed_graphs)}\")"
   ]
  },
  {
   "cell_type": "code",
   "execution_count": 12,
   "id": "fc72a380",
   "metadata": {},
   "outputs": [],
   "source": [
    "original_hashes = [weisfeiler_lehman_hash(g) for g in original_graphs]\n",
    "original_hash = original_hashes[0]"
   ]
  },
  {
   "cell_type": "code",
   "execution_count": 13,
   "id": "1563004d",
   "metadata": {},
   "outputs": [],
   "source": [
    "perturbed_hashes =[weisfeiler_lehman_hash(g) for g in perturbed_graphs]"
   ]
  },
  {
   "cell_type": "code",
   "execution_count": 14,
   "id": "adf6522b",
   "metadata": {},
   "outputs": [],
   "source": [
    "maintained = sum(1 for h in perturbed_hashes if h == original_hash)\n",
    "broken = len(perturbed_hashes) - maintained"
   ]
  },
  {
   "cell_type": "code",
   "execution_count": 15,
   "id": "f541fb99",
   "metadata": {},
   "outputs": [
    {
     "name": "stdout",
     "output_type": "stream",
     "text": [
      "Original group size: 8\n",
      "Perturbed graphs: 80\n",
      "Maintained isomorphism: 0\n",
      "Broken isomorphism: 80\n",
      "Maintenance rate: 0.00%\n"
     ]
    }
   ],
   "source": [
    "print(f\"Original group size: {len(original_graphs)}\")\n",
    "print(f\"Perturbed graphs: {len(perturbed_graphs)}\")\n",
    "print(f\"Maintained isomorphism: {maintained}\")\n",
    "print(f\"Broken isomorphism: {broken}\")\n",
    "print(f\"Maintenance rate: {maintained/len(perturbed_graphs):.2%}\")"
   ]
  },
  {
   "cell_type": "markdown",
   "id": "8fd7a62c",
   "metadata": {},
   "source": [
    "**All of the pertubed graphs were initially isomorphic(before pertubation) became non isomorphic after a small modification.This shows that WL is highly discriminative i.e. even a small perturbation is enough to alter its outcome**"
   ]
  },
  {
   "cell_type": "markdown",
   "id": "e2c705cd",
   "metadata": {},
   "source": [
    "## Experiment B"
   ]
  },
  {
   "cell_type": "code",
   "execution_count": 16,
   "id": "c2b3951c",
   "metadata": {},
   "outputs": [],
   "source": [
    "isomorphic_groups = find_isomorphic_groups(dataset)\n",
    "sorted_groups = sorted(isomorphic_groups.values(), key=len, reverse=True)"
   ]
  },
  {
   "cell_type": "code",
   "execution_count": 17,
   "id": "dd5f3e1d",
   "metadata": {},
   "outputs": [
    {
     "name": "stdout",
     "output_type": "stream",
     "text": [
      "Total WL-isomorphic groups: 84\n",
      "Largest group size: 8 i.e. [709, 1270, 1454, 1585, 1607, 1809, 1964, 1977]\n",
      "Second largest group size: 3 i.e. [189, 1004, 1711]\n"
     ]
    }
   ],
   "source": [
    "print(f\"Total WL-isomorphic groups: {len(sorted_groups)}\")\n",
    "print(f\"Largest group size: {len(sorted_groups[0])} i.e. {sorted_groups[0][:10]}\")\n",
    "print(f\"Second largest group size: {len(sorted_groups[1])} i.e. {sorted_groups[1][:10]}\")"
   ]
  },
  {
   "cell_type": "code",
   "execution_count": 18,
   "id": "edebb879",
   "metadata": {},
   "outputs": [],
   "source": [
    "def degree_sequence(g):\n",
    "    return sorted([d for _, d in g.degree()])"
   ]
  },
  {
   "cell_type": "code",
   "execution_count": 19,
   "id": "77a46de0",
   "metadata": {},
   "outputs": [],
   "source": [
    "def two_hop_neighbor_degrees(g):\n",
    "    per_node = []\n",
    "    for v in g.nodes():\n",
    "        two_hop = set()\n",
    "        for nbr in g.neighbors(v):\n",
    "            for nbr2 in g.neighbors(nbr):\n",
    "                if nbr2 != v:\n",
    "                    two_hop.add(nbr2)\n",
    "        degs = tuple(sorted([g.degree(u) for u in two_hop]))\n",
    "        per_node.append(degs)\n",
    "    return sorted(per_node)"
   ]
  },
  {
   "cell_type": "code",
   "execution_count": 20,
   "id": "3eadf538",
   "metadata": {},
   "outputs": [],
   "source": [
    "def triangle_count(g):\n",
    "    return sum(nx.triangles(g).values()) // 3\n",
    "\n",
    "def four_cycle_count(g):\n",
    "    nodes = list(g.nodes())\n",
    "    count = 0\n",
    "    for quad in itertools.combinations(nodes, 4):\n",
    "        sub = g.subgraph(quad)\n",
    "        if sub.number_of_edges() == 4:\n",
    "            degs = [d for _, d in sub.degree()]\n",
    "            if all(d == 2 for d in degs) and nx.is_connected(sub):\n",
    "                count += 1\n",
    "    return count"
   ]
  },
  {
   "cell_type": "code",
   "execution_count": 21,
   "id": "d1762aaf",
   "metadata": {},
   "outputs": [],
   "source": [
    "def graphlet_counts(g):\n",
    "    '''considering graphlets of sze 3 and 4'''\n",
    "    counts = {\"triangle\": 0, \"path3\": 0, \"square\": 0, \"star4\": 0, \"clique4\": 0}\n",
    "    nodes = list(g.nodes())\n",
    "\n",
    "    for trip in itertools.combinations(nodes, 3):\n",
    "        sub =g.subgraph(trip)\n",
    "        e =sub.number_of_edges()\n",
    "        if e ==3 and nx.is_connected(sub):\n",
    "            counts[\"triangle\"] +=1\n",
    "        elif e == 2 and nx.is_connected(sub):\n",
    "            counts[\"path3\"] +=1\n",
    "    \n",
    "    for quad in itertools.combinations(nodes, 4):\n",
    "        sub =g.subgraph(quad)\n",
    "        e =sub.number_of_edges()\n",
    "        if e ==6:\n",
    "            counts[\"clique4\"] +=1\n",
    "        elif e == 4:\n",
    "            degs = [d for _,d in sub.degree()]\n",
    "            if all(d == 2 for d in degs):\n",
    "                counts[\"square\"] +=1\n",
    "        elif e ==3:\n",
    "            degs =[d for _, d in sub.degree()]\n",
    "            if sorted(degs) == [1,1,1,3]:\n",
    "                counts[\"star4\"] += 1\n",
    "    \n",
    "    return counts"
   ]
  },
  {
   "cell_type": "code",
   "execution_count": 22,
   "id": "61464a8a",
   "metadata": {},
   "outputs": [],
   "source": [
    "def exact_isomorphism(g1,g2):\n",
    "    GM = isomorphism.GraphMatcher(g1,g2,node_match=lambda x,y: x.get('label',None)==y.get('label',None))\n",
    "    if GM.is_isomorphic():\n",
    "        return True, dict(list(GM.mapping.items())[:8])\n",
    "    else:\n",
    "        return False, None"
   ]
  },
  {
   "cell_type": "code",
   "execution_count": 23,
   "id": "971f80d8",
   "metadata": {},
   "outputs": [],
   "source": [
    "def analyze_group(dataset,group_indices,group_name=\"Group\"):\n",
    "    graphs =[]\n",
    "    for idx in group_indices:\n",
    "        data =dataset[idx]\n",
    "        g = to_networkx(data,node_attrs=['x'])\n",
    "        g =g.to_undirected()\n",
    "        nx.set_node_attributes(g, {j:int(x[0]) for j,x in enumerate(data.x)},'label')\n",
    "        graphs.append((idx,g))\n",
    "    \n",
    "    print(f\"Analyzing {group_name} (size={len(graphs)})\")\n",
    "    for i in range(len(graphs)):\n",
    "        for j in range(i+1,len(graphs)):\n",
    "            id1,g1 =graphs[i]\n",
    "            id2,g2 =graphs[j]\n",
    "            deg_equal =degree_sequence(g1) ==degree_sequence(g2)\n",
    "            twohop_equal =two_hop_neighbor_degrees(g1) ==two_hop_neighbor_degrees(g2)\n",
    "            tri1, tri2 =triangle_count(g1),triangle_count(g2)\n",
    "            four1, four2 =four_cycle_count(g1),four_cycle_count(g2)\n",
    "            gc1, gc2 =graphlet_counts(g1),graphlet_counts(g2)\n",
    "            iso, mapping =exact_isomorphism(g1,g2)\n",
    "            if iso:\n",
    "                print(f\"Graph {id1} vs {id2}: Isomorphic(True))\")\n",
    "            else:\n",
    "                reason = []\n",
    "                if not deg_equal: \n",
    "                    reason.append(\"degree sequence\")\n",
    "                if not twohop_equal: \n",
    "                    reason.append(\"2-hop structure\")\n",
    "                if tri1 != tri2: \n",
    "                    reason.append(f\"triangles={tri1} vs {tri2}\")\n",
    "                if four1 != four2: \n",
    "                    reason.append(f\"4-cycles={four1} vs {four2}\")\n",
    "                if gc1 != gc2: \n",
    "                    reason.append(f\"graphlet counts differ {gc1} vs {gc2}\")\n",
    "                reason = \", \".join(reason) if reason else \"no obvious differnce but not isomorphic\"\n",
    "                print(f\"Graph {id1} vs {id2}: WL claim is Fake ({reason})\")\n"
   ]
  },
  {
   "cell_type": "code",
   "execution_count": 24,
   "id": "e456cd92",
   "metadata": {},
   "outputs": [
    {
     "name": "stdout",
     "output_type": "stream",
     "text": [
      "Analyzing Group 1 (largest WL group) (size=8)\n",
      "Graph 709 vs 1270: Isomorphic(True))\n",
      "Graph 709 vs 1454: Isomorphic(True))\n",
      "Graph 709 vs 1585: Isomorphic(True))\n",
      "Graph 709 vs 1607: Isomorphic(True))\n",
      "Graph 709 vs 1809: Isomorphic(True))\n",
      "Graph 709 vs 1964: Isomorphic(True))\n",
      "Graph 709 vs 1977: Isomorphic(True))\n",
      "Graph 1270 vs 1454: Isomorphic(True))\n",
      "Graph 1270 vs 1585: Isomorphic(True))\n",
      "Graph 1270 vs 1607: Isomorphic(True))\n",
      "Graph 1270 vs 1809: Isomorphic(True))\n",
      "Graph 1270 vs 1964: Isomorphic(True))\n",
      "Graph 1270 vs 1977: Isomorphic(True))\n",
      "Graph 1454 vs 1585: Isomorphic(True))\n",
      "Graph 1454 vs 1607: Isomorphic(True))\n",
      "Graph 1454 vs 1809: Isomorphic(True))\n",
      "Graph 1454 vs 1964: Isomorphic(True))\n",
      "Graph 1454 vs 1977: Isomorphic(True))\n",
      "Graph 1585 vs 1607: Isomorphic(True))\n",
      "Graph 1585 vs 1809: Isomorphic(True))\n",
      "Graph 1585 vs 1964: Isomorphic(True))\n",
      "Graph 1585 vs 1977: Isomorphic(True))\n",
      "Graph 1607 vs 1809: Isomorphic(True))\n",
      "Graph 1607 vs 1964: Isomorphic(True))\n",
      "Graph 1607 vs 1977: Isomorphic(True))\n",
      "Graph 1809 vs 1964: Isomorphic(True))\n",
      "Graph 1809 vs 1977: Isomorphic(True))\n",
      "Graph 1964 vs 1977: Isomorphic(True))\n",
      "Analyzing Group 2 (second largest WL group) (size=3)\n",
      "Graph 189 vs 1004: Isomorphic(True))\n",
      "Graph 189 vs 1711: Isomorphic(True))\n",
      "Graph 1004 vs 1711: Isomorphic(True))\n"
     ]
    }
   ],
   "source": [
    "group1 = sorted_groups[0]\n",
    "group2 = sorted_groups[1]\n",
    "analyze_group(dataset, group1, \"Group 1 (largest WL group)\")\n",
    "analyze_group(dataset, group2, \"Group 2 (second largest WL group)\")"
   ]
  },
  {
   "cell_type": "markdown",
   "id": "93e5ec6e",
   "metadata": {},
   "source": [
    "**Our results show that WL Test was accurate at identifying the isomophism in graphs in the groups we examined.However, in general WL test is necessary but insufficient condition for graph isomorphism i.e. if two graphs are isomorphic they must have same WL colors but converse is not guranteed. So there exists non isomorphic graphs that WL cannot distinguish (i.e. have same WL colors)**"
   ]
  },
  {
   "cell_type": "markdown",
   "id": "37b41839",
   "metadata": {},
   "source": [
    "## Proving the graphs in our dataset are not strongly Regular "
   ]
  },
  {
   "cell_type": "code",
   "execution_count": 25,
   "id": "0e7fba53",
   "metadata": {},
   "outputs": [],
   "source": [
    "network_x_graphs=[]\n",
    "for i,data in enumerate(dataset):\n",
    "    g= to_networkx(data,node_attrs=['x'])\n",
    "    g= g.to_undirected()\n",
    "    nx.set_node_attributes(g,{j:int(x[0]) for j,x in enumerate(data.x)},'label')\n",
    "    network_x_graphs.append(g)"
   ]
  },
  {
   "cell_type": "code",
   "execution_count": 26,
   "id": "94c3601c",
   "metadata": {},
   "outputs": [],
   "source": [
    "srg_list=[]#list to store strongly regular graphs\n",
    "for index, g in enumerate(network_x_graphs):\n",
    "    try:\n",
    "        result= distance_regular.is_strongly_regular(g)\n",
    "        if result is not False:\n",
    "            srg_list.append((index,result))\n",
    "    except Exception as e:\n",
    "        pass"
   ]
  },
  {
   "cell_type": "code",
   "execution_count": 28,
   "id": "3bf1a86a",
   "metadata": {},
   "outputs": [
    {
     "name": "stdout",
     "output_type": "stream",
     "text": [
      "Total graphs checked: 2000\n",
      "Strongly regular graphs found: [(1482, True)]\n"
     ]
    }
   ],
   "source": [
    "print(f\"Total graphs checked: {len(network_x_graphs)}\")\n",
    "print(\"Strongly regular graphs found:\", srg_list)"
   ]
  },
  {
   "cell_type": "code",
   "execution_count": null,
   "id": "ba19ce5e",
   "metadata": {},
   "outputs": [
    {
     "name": "stdout",
     "output_type": "stream",
     "text": [
      "Graph 1482 has 5 nodes and 5 edges\n"
     ]
    }
   ],
   "source": [
    "graph_index= 1482\n",
    "data = dataset[graph_index]\n",
    "G = to_networkx(data, to_undirected=True)\n",
    "nx.set_node_attributes(G, {j:int(x[0]) for j,x in enumerate(data.x)},'label')\n",
    "print(f\"Graph {graph_index} has {G.number_of_nodes()} nodes and {G.number_of_edges()} edges\")"
   ]
  },
  {
   "cell_type": "code",
   "execution_count": 30,
   "id": "80825880",
   "metadata": {},
   "outputs": [],
   "source": [
    "original_hash = weisfeiler_lehman_hash(G)\n",
    "edges= list(G.edges())\n",
    "non_edges= list(nx.non_edges(G))\n",
    "u,v = random.choice(edges)"
   ]
  },
  {
   "cell_type": "code",
   "execution_count": 31,
   "id": "9ccc2eb6",
   "metadata": {},
   "outputs": [],
   "source": [
    "G_removed= G.copy()\n",
    "G_removed.remove_edge(u,v)\n",
    "x,y =random.choice(non_edges)\n",
    "G_added = G.copy()\n",
    "G_added.add_edge(x,y)"
   ]
  },
  {
   "cell_type": "code",
   "execution_count": 32,
   "id": "bc0b5c4c",
   "metadata": {},
   "outputs": [
    {
     "name": "stdout",
     "output_type": "stream",
     "text": [
      "Original vs Removed-edge graph: False\n",
      "Original vs Added-edge graph  : False\n"
     ]
    }
   ],
   "source": [
    "GM_removed = nx.isomorphism.GraphMatcher(G,G_removed,node_match=lambda a,b: a['label']==b['label'])\n",
    "GM_added = nx.isomorphism.GraphMatcher(G,G_added,node_match=lambda a,b: a['label']==b['label'])\n",
    "print(f\"Original vs Removed-edge graph: {GM_removed.is_isomorphic()}\")\n",
    "print(f\"Original vs Added-edge graph  : {GM_added.is_isomorphic()}\")"
   ]
  }
 ],
 "metadata": {
  "kernelspec": {
   "display_name": "venv",
   "language": "python",
   "name": "python3"
  },
  "language_info": {
   "codemirror_mode": {
    "name": "ipython",
    "version": 3
   },
   "file_extension": ".py",
   "mimetype": "text/x-python",
   "name": "python",
   "nbconvert_exporter": "python",
   "pygments_lexer": "ipython3",
   "version": "3.12.3"
  }
 },
 "nbformat": 4,
 "nbformat_minor": 5
}
