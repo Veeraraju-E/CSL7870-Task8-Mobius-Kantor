{
 "cells": [
  {
   "cell_type": "code",
   "execution_count": null,
   "id": "c348ce51",
   "metadata": {},
   "outputs": [],
   "source": [
    "import torch\n",
    "from torch_geometric.datasets import TUDataset\n",
    "from torch_geometric.utils import to_networkx\n",
    "import networkx as nx\n",
    "import random\n",
    "from networkx.algorithms import distance_regular\n",
    "import random"
   ]
  },
  {
   "cell_type": "code",
   "execution_count": 4,
   "id": "8fc60460",
   "metadata": {},
   "outputs": [
    {
     "data": {
      "text/plain": [
       "<torch._C.Generator at 0x71cee0079330>"
      ]
     },
     "execution_count": 4,
     "metadata": {},
     "output_type": "execute_result"
    }
   ],
   "source": [
    "random.seed(42)\n",
    "torch.manual_seed(42)"
   ]
  },
  {
   "cell_type": "code",
   "execution_count": 5,
   "id": "cfa0c0ac",
   "metadata": {},
   "outputs": [
    {
     "name": "stdout",
     "output_type": "stream",
     "text": [
      "Loaded 2000 graphs.\n"
     ]
    }
   ],
   "source": [
    "dataset = TUDataset(root='/tmp/AIDS', name='AIDS', use_node_attr=True)\n",
    "print(f\"Loaded {len(dataset)} graphs.\")"
   ]
  },
  {
   "cell_type": "code",
   "execution_count": 11,
   "id": "bb12804a",
   "metadata": {},
   "outputs": [],
   "source": [
    "def weisfeiler_lehman_hash(graph):\n",
    "    colors = {node: data.get('label', 0) for node, data in graph.nodes(data=True)}\n",
    "    for _ in range(len(graph.nodes())):\n",
    "        new_colors = {}\n",
    "        for node in graph.nodes():\n",
    "            neighbor_colors = sorted([colors[nbr] for nbr in graph.neighbors(node)])\n",
    "            signature = (colors[node], tuple(neighbor_colors))\n",
    "            new_colors[node] = hash(signature)\n",
    "        if new_colors == colors:\n",
    "            break\n",
    "        colors = new_colors\n",
    "    return str(sorted(colors.values()))\n"
   ]
  },
  {
   "cell_type": "code",
   "execution_count": 6,
   "id": "871a0f05",
   "metadata": {},
   "outputs": [],
   "source": [
    "network_x_graphs=[]\n",
    "for i,data in enumerate(dataset):\n",
    "    g= to_networkx(data,node_attrs=['x'])\n",
    "    g= g.to_undirected()\n",
    "    nx.set_node_attributes(g,{j:int(x[0]) for j,x in enumerate(data.x)},'label')\n",
    "    network_x_graphs.append(g)"
   ]
  },
  {
   "cell_type": "code",
   "execution_count": 7,
   "id": "cbb8a89e",
   "metadata": {},
   "outputs": [],
   "source": [
    "srg_list=[]#list to store strongly regular graphs\n",
    "for index, g in enumerate(network_x_graphs):\n",
    "    try:\n",
    "        result= distance_regular.is_strongly_regular(g)\n",
    "        if result is not False:\n",
    "            srg_list.append((index,result))\n",
    "    except Exception as e:\n",
    "        pass"
   ]
  },
  {
   "cell_type": "code",
   "execution_count": 8,
   "id": "09b4fa80",
   "metadata": {},
   "outputs": [
    {
     "name": "stdout",
     "output_type": "stream",
     "text": [
      "Total graphs checked: 2000\n",
      "Strongly regular graphs found: [(1482, True)]\n"
     ]
    }
   ],
   "source": [
    "print(f\"Total graphs checked: {len(network_x_graphs)}\")\n",
    "print(\"Strongly regular graphs found:\", srg_list)"
   ]
  },
  {
   "cell_type": "code",
   "execution_count": 9,
   "id": "96271a25",
   "metadata": {},
   "outputs": [
    {
     "name": "stdout",
     "output_type": "stream",
     "text": [
      "Graph 1482 has 5 nodes and 5 edges\n"
     ]
    }
   ],
   "source": [
    "graph_index= 1482\n",
    "data = dataset[graph_index]\n",
    "G = to_networkx(data, to_undirected=True)\n",
    "nx.set_node_attributes(G, {j:int(x[0]) for j,x in enumerate(data.x)},'label')\n",
    "print(f\"Graph {graph_index} has {G.number_of_nodes()} nodes and {G.number_of_edges()} edges\")"
   ]
  },
  {
   "cell_type": "code",
   "execution_count": 12,
   "id": "f46dc8c9",
   "metadata": {},
   "outputs": [],
   "source": [
    "original_hash = weisfeiler_lehman_hash(G)\n",
    "edges= list(G.edges())\n",
    "non_edges= list(nx.non_edges(G))\n",
    "u,v = random.choice(edges)"
   ]
  },
  {
   "cell_type": "code",
   "execution_count": 13,
   "id": "34afc388",
   "metadata": {},
   "outputs": [],
   "source": [
    "G_removed= G.copy()\n",
    "G_removed.remove_edge(u,v)\n",
    "x,y =random.choice(non_edges)\n",
    "G_added = G.copy()\n",
    "G_added.add_edge(x,y)"
   ]
  },
  {
   "cell_type": "code",
   "execution_count": 14,
   "id": "11d13070",
   "metadata": {},
   "outputs": [
    {
     "name": "stdout",
     "output_type": "stream",
     "text": [
      "Original vs Removed-edge graph: False\n",
      "Original vs Added-edge graph  : False\n"
     ]
    }
   ],
   "source": [
    "GM_removed = nx.isomorphism.GraphMatcher(G,G_removed,node_match=lambda a,b: a['label']==b['label'])\n",
    "GM_added = nx.isomorphism.GraphMatcher(G,G_added,node_match=lambda a,b: a['label']==b['label'])\n",
    "print(f\"Original vs Removed-edge graph: {GM_removed.is_isomorphic()}\")\n",
    "print(f\"Original vs Added-edge graph  : {GM_added.is_isomorphic()}\")"
   ]
  }
 ],
 "metadata": {
  "kernelspec": {
   "display_name": "venv",
   "language": "python",
   "name": "python3"
  },
  "language_info": {
   "codemirror_mode": {
    "name": "ipython",
    "version": 3
   },
   "file_extension": ".py",
   "mimetype": "text/x-python",
   "name": "python",
   "nbconvert_exporter": "python",
   "pygments_lexer": "ipython3",
   "version": "3.12.3"
  }
 },
 "nbformat": 4,
 "nbformat_minor": 5
}
